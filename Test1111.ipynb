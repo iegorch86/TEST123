{
    "cells": [
        {
            "cell_type": "code",
            "execution_count": 4,
            "metadata": {
                "scrolled": false
            },
            "outputs": [
                {
                    "name": "stdout",
                    "output_type": "stream",
                    "text": "+----------+-------+--------+-------+-------+-------+-------+-------+-------+---------+-------+--------+--------+----+\n|MONTH/YEAR|JANUARY|FEBRUARY|  MARCH|  APRIL|    MAY|   JUNE|   JULY| AUGUST|SEPTEMBER|OCTOBER|NOVEMBER|DECEMBER|_c13|\n+----------+-------+--------+-------+-------+-------+-------+-------+-------+---------+-------+--------+--------+----+\n|      2013|   null|    null|   null|   null|   null|   null|   null|   null|     null|   null|    null|    null|null|\n|  STARTING|120,816| 125,871|120,415|132,696|125,386|124,197|135,897|121,361|  141,836|129,436| 131,764| 127,822|null|\n|   SHIPPED| 26,203|  33,738| 18,977| 40,057| 33,429| 18,070| 47,283|  1,852|   42,170| 30,419|  32,223|  22,894|null|\n|PRODUCTION| 31,258|  28,281| 31,258| 32,747| 32,240| 29,770| 32,747| 22,327|   29,770| 32,747|  28,281|  20,839|null|\n|    ENDING|125,871| 120,415|132,696|125,386|124,197|135,897|121,361|141,836|  129,436|131,764| 127,822| 125,767|null|\n+----------+-------+--------+-------+-------+-------+-------+-------+-------+---------+-------+--------+--------+----+\nonly showing top 5 rows\n\n"
                },
                {
                    "data": {
                        "text/plain": "configurationName = os_6c07387e522f4cf7bb7beb48e22d2523_configs\ncos = com.ibm.ibmos2spark.CloudObjectStorage@d18a22ed\nspark = org.apache.spark.sql.SparkSession@2138f35e\ndfData1 = [MONTH/YEAR: string, JANUARY: string ... 12 more fields]\n"
                    },
                    "metadata": {},
                    "output_type": "display_data"
                },
                {
                    "data": {
                        "text/plain": "getCredentials: ()scala.collection.mutable.HashMap[String,String]\n"
                    },
                    "metadata": {},
                    "output_type": "display_data"
                },
                {
                    "data": {
                        "text/plain": "[MONTH/YEAR: string, JANUARY: string ... 12 more fields]"
                    },
                    "execution_count": 4,
                    "metadata": {},
                    "output_type": "execute_result"
                }
            ],
            "source": "// The code was removed by Watson Studio for sharing."
        },
        {
            "cell_type": "code",
            "execution_count": null,
            "metadata": {},
            "outputs": [],
            "source": ""
        }
    ],
    "metadata": {
        "kernelspec": {
            "display_name": "Scala 2.11 with Spark",
            "language": "scala",
            "name": "scala"
        },
        "language_info": {
            "codemirror_mode": "text/x-scala",
            "file_extension": ".scala",
            "mimetype": "text/x-scala",
            "name": "scala",
            "pygments_lexer": "scala",
            "version": "2.11.12"
        }
    },
    "nbformat": 4,
    "nbformat_minor": 1
}